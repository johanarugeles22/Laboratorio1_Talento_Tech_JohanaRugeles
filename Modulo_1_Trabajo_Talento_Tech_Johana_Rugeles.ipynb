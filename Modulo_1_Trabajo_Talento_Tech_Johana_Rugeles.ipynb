{
  "nbformat": 4,
  "nbformat_minor": 0,
  "metadata": {
    "colab": {
      "provenance": [],
      "authorship_tag": "ABX9TyMKU5K3DlAHr0Rbz0sMZ9Pn",
      "include_colab_link": true
    },
    "kernelspec": {
      "name": "python3",
      "display_name": "Python 3"
    },
    "language_info": {
      "name": "python"
    }
  },
  "cells": [
    {
      "cell_type": "markdown",
      "metadata": {
        "id": "view-in-github",
        "colab_type": "text"
      },
      "source": [
        "<a href=\"https://colab.research.google.com/github/johanarugeles22/Talento_Tech_JohanaRugeles/blob/main/Modulo_1_Trabajo_Talento_Tech_Johana_Rugeles.ipynb\" target=\"_parent\"><img src=\"https://colab.research.google.com/assets/colab-badge.svg\" alt=\"Open In Colab\"/></a>"
      ]
    },
    {
      "cell_type": "code",
      "execution_count": null,
      "metadata": {
        "id": "paRsDqWBgKgg"
      },
      "outputs": [],
      "source": [
        "#Actividad 11 -12 junio\n",
        "# Archivos en una carpeta drive\n",
        "from google.colab import drive # Traemos la clase drive, dentro del módulo colab, del paquete google\n",
        "drive.mount('/content/drive') # Establecemos la conexión através del método mount\n",
        "\n",
        "# Conexion con la carpeta (ruta)\n",
        "path = '/content/drive/MyDrive/Colab Notebooks/Data/ventas.xlsx'\n",
        "\n",
        "# Importar librerias requeridas\n",
        "import pandas as pd\n",
        "\n",
        "# Creacion dataframe\n",
        "df_ventas = pd.read_excel(path)\n",
        "\n",
        "# Tipos de codigo\n",
        "#devuelve lista con los nombres de las columnas dataframe\n",
        "# df_ventas.columns\n",
        "#devuelve ultimas filas dataframe\n",
        "# df_ventas.tail()\n",
        "#devuelve primeras filas dataframe\n",
        "# df_ventas.head()\n",
        "#devuelve info dataframe incluyendo tipos de datos y valores no nulos\n",
        "# df_ventas.info()\n",
        "# devuelve estadisticas descriptivas para columnas numericas\n",
        "# df_ventas.describe()\n",
        "#from matplotlib import pyplot plt\n",
        "#df_ventas[Ventas].plot(kind ='hist', bins=20, title='Ventas)\n",
        "#plt.gca().spines[['top','right',]].set_visible(False)\n",
        "\n",
        "#Actividad 13 junio\n",
        "#Ejercicio 1 Mostrar las primeras filas del Dataframe\n",
        "print(df_ventas.head(5))\n",
        "#Ejercicio 2 Calcular el total de ventas por region\n",
        "ventas_por_region = df_ventas.groupby('Region')['Ventas'].sum()\n",
        "print(ventas_por_region)\n",
        "print('\\n')\n",
        "print(df_ventas.head(10))\n",
        "#Ejercicio 3 Filtrar el Dataframe para mostrar solo las ventas realizadas por David\n",
        "ventas_david =df_ventas[df_ventas['Vendedor']== 'David']\n",
        "print(ventas_david)\n",
        "\n",
        "#Actividad 14 junio\n",
        "#Ejercicio 4 Calcular el promedio de ventas por region\n",
        "print(\"Ejercicio 4:Calcular el promedio de ventas por region\")\n",
        "ventas_por_producto = df_ventas.groupby('Region')['Ventas'].mean()\n",
        "print(ventas_por_producto)\n",
        "#prompt:Ejercicio 5 Calcular el promedio de ventas por region con dos decimales\n",
        "print(\"Ejercicio 5: Calcular el promedio de ventas por region con dos decimales\")\n",
        "ventas_por_producto = df_ventas.groupby('Region')['Ventas'].mean().round(2)\n",
        "print(ventas_por_producto)\n",
        "#Ejercicio 6 Ordenar el dataframe por ventas en orden descendente\n",
        "print(\"Ejercicio 6 Ordenar el dataframe por ventas en orden descendente\")\n",
        "df_ordenado =df_ventas.sort_values(by='Ventas',ascending=False)\n",
        "print(df_ordenado)\n",
        "#Ejercicio 7 Filtrar las filas con ventas mayores a 10000 y ordenar a de mayor a menor\n",
        "print(\"Ejercicio 7 Filtrar las filas con ventas mayores a 10000\")\n",
        "df_filtrado = df_ventas[df_ventas['Ventas']> 10000].sort_values(by='Ventas',ascending= True)\n",
        "print(df_filtrado)\n",
        "print(\"\\n\")\n",
        "#Ejercicio 8 Ordenar el dataframe por ventas en orden descendente\n",
        "print(\"Ejercicio 8 Ordenar el dataframe por ventas en orden descendente\")\n",
        "df_ordenado = df_ventas.sort_values(by='Ventas', ascending=False)\n",
        "print(df_ordenado)\n",
        "print(\"\\n\")\n",
        "#Ejercicio 9 Eliminar la columna \"Vendedor\"\n",
        "print(\"Ejercicio 9 Eliminar la columna 'Vendedor'\")\n",
        "df_sin_vendedor =df_ventas.drop(columns=['Vendedor'])\n",
        "print(df_sin_vendedor)\n",
        "print(\"\\n\")"
      ]
    },
    {
      "cell_type": "code",
      "source": [
        "#Actividad 17 junio\n",
        "#Especificamos la ruta del dataset en el drive\n",
        "file_path =\"/content/drive/MyDrive/Colab Notebooks/Data/DATASET 1.csv\"\n",
        "#leemos el dataset con la libreria pandas\n",
        "df_persona =pd.read_csv(file_path,delimiter=\";\")\n",
        "#imprimimos el dataframe\n",
        "#print(df_persona)\n",
        "#Cambiar el nombre de las columnas del df_persona y creamos un dataframe llamado df_nombres (weight, heigh , age, gender)\n",
        "df_nombres =df_persona.rename(columns= {'weight':'Peso','height':'Estatura','age':'Edad','gender':'Genero'})\n",
        "print(df_nombres)"
      ],
      "metadata": {
        "colab": {
          "base_uri": "https://localhost:8080/"
        },
        "id": "mZdh3qaMUd9O",
        "outputId": "34a978f7-1363-46e5-9e62-28ff226c2ca3"
      },
      "execution_count": null,
      "outputs": [
        {
          "output_type": "stream",
          "name": "stdout",
          "text": [
            "   id   Peso Estatura  Edad Genero\n",
            "0   1  144,5      5,9    33      M\n",
            "1   2  167,2      5,4    45      M\n",
            "2   3  124,1      5,2    23      F\n",
            "3   4  144,5      5,9    33      M\n",
            "4   5  133,2      5,7    54      F\n",
            "5   3  124,1      5,2    23      F\n",
            "6   5  129,2      5,3    42      M\n"
          ]
        }
      ]
    },
    {
      "cell_type": "code",
      "source": [
        "#Pasar columnas con separador decimal de , a .\n",
        "df_nombres['Peso'] = df_nombres['Peso'].str.replace(',', '.').astype(float)\n",
        "df_nombres['Estatura'] = df_nombres['Estatura'].str.replace(',', '.').astype(float)\n",
        "print(df_nombres)"
      ],
      "metadata": {
        "colab": {
          "base_uri": "https://localhost:8080/"
        },
        "id": "SEHLv-RQ6S5_",
        "outputId": "e7c80a82-4c27-49b1-b10b-46fef5b59936"
      },
      "execution_count": null,
      "outputs": [
        {
          "output_type": "stream",
          "name": "stdout",
          "text": [
            "   id   Peso  Estatura  Edad Genero\n",
            "0   1  144.5       5.9    33      M\n",
            "1   2  167.2       5.4    45      M\n",
            "2   3  124.1       5.2    23      F\n",
            "3   4  144.5       5.9    33      M\n",
            "4   5  133.2       5.7    54      F\n",
            "5   3  124.1       5.2    23      F\n",
            "6   5  129.2       5.3    42      M\n"
          ]
        }
      ]
    },
    {
      "cell_type": "code",
      "source": [
        "#Transformar los valores de peso y estatura\n",
        "#crear un nuevo dataframe llamado df_convertido\n",
        "df_convertido =df_nombres\n",
        "#Factores de conversion\n",
        "lbs_to_kg =0.453592\n",
        "estatura_to_mt=0.3048\n",
        "#convertir peso a kilogramos en una nueva columna\n",
        "df_convertido['Peso_Kg'] = df_convertido['Peso'] * lbs_to_kg\n",
        "#convertir estatura a metros en una nueva columna\n",
        "df_convertido['Estatura_Mts'] = df_convertido['Estatura'] * estatura_to_mt\n",
        "# Mostrar el dataframe actualizado\n",
        "#print(df_convertido.head())\n",
        "\n",
        "df_select = df_convertido[['id','Peso_Kg','Estatura_Mts', 'Edad','Genero']]\n",
        "print(df_select)"
      ],
      "metadata": {
        "colab": {
          "base_uri": "https://localhost:8080/"
        },
        "id": "rpUm8TvUD9-N",
        "outputId": "3bc77338-29b6-4622-f0df-9e129f58069d"
      },
      "execution_count": null,
      "outputs": [
        {
          "output_type": "stream",
          "name": "stdout",
          "text": [
            "   id    Peso_Kg  Estatura_Mts  Edad Genero\n",
            "0   1  65.544044       1.79832    33      M\n",
            "1   2  75.840582       1.64592    45      M\n",
            "2   3  56.290767       1.58496    23      F\n",
            "3   4  65.544044       1.79832    33      M\n",
            "4   5  60.418454       1.73736    54      F\n",
            "5   3  56.290767       1.58496    23      F\n",
            "6   5  58.604086       1.61544    42      M\n"
          ]
        }
      ]
    },
    {
      "cell_type": "code",
      "source": [
        "#sin decimales\n",
        "df_round =df_select.Peso_Kg.round(2)\n",
        "print(df_round)\n",
        "df_round2 =df_select.Estatura_Mts.round(2)\n",
        "print(df_round2)\n"
      ],
      "metadata": {
        "colab": {
          "base_uri": "https://localhost:8080/"
        },
        "id": "Vd6oKTyQ90oe",
        "outputId": "b977bb30-d834-40dd-fff7-a47171cfd0fb"
      },
      "execution_count": null,
      "outputs": [
        {
          "output_type": "stream",
          "name": "stdout",
          "text": [
            "0    65.54\n",
            "1    75.84\n",
            "2    56.29\n",
            "3    65.54\n",
            "4    60.42\n",
            "5    56.29\n",
            "6    58.60\n",
            "Name: Peso_Kg, dtype: float64\n",
            "0    1.80\n",
            "1    1.65\n",
            "2    1.58\n",
            "3    1.80\n",
            "4    1.74\n",
            "5    1.58\n",
            "6    1.62\n",
            "Name: Estatura_Mts, dtype: float64\n"
          ]
        }
      ]
    }
  ]
}